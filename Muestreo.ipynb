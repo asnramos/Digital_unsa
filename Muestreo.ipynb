{
 "cells": [
  {
   "attachments": {
    "imagen.png": {
     "image/png": "[encoded data removed]"
    }
   },
   "cell_type": "markdown",
   "metadata": {},
   "source": [
    "# INSTRUMENTACION VIRTUAL\n",
    "\n",
    "## GENERALIDADES DE ADQUISICIÓN DE DATOS\n",
    "\n",
    "**Medición:** La determinacion cuantitativa de un caracteristica física o quimica. \n",
    "\n",
    " **Instrumentos:** dispositivos que convierten una propiedad fisíca a una propiedad observable por un humano o computadora\n",
    " \n",
    "**Sensor:** dispositivo que responde a un estimulo fisico (calor,luz, sonido, presion, movimiento, flujo) y produce una señal electrica. La cual puede ser tension, corriente frecuencia o fase\n",
    "\n",
    "<table><thead></thead>\n",
    "<thead><tr> <th> Fenomeno  </th>  <th> Sensores                         </th> </tr></thead>\n",
    "    <tbody>\n",
    "       <tr> <th> Posicion         </th>  <th> Potenciometros                   </th> </tr>           \n",
    "       <tr> <th>                  </th>  <th> LVDT                             </th> </tr>\n",
    "<thead><tr> <th>                  </th>  <th> Encoders opticos                 </th> </tr></thead>\n",
    "       <tr> <th> Flujo de fluidos </th>  <th> Medidores de calor               </th> </tr>\n",
    "       <tr> <th>                  </th>  <th> Medidores de caudal              </th> </tr>\n",
    "<thead><tr> <th>                  </th>  <th> Medidores de caudal ultrasonidos </th> </tr></thead>\n",
    "<thead><tr> <th>    ph            </th>  <th> Electrodos ph                    </th> </tr></thead>\n",
    "       <tr> <th>Fuerza y presion  </th>  <th> Strain guagues                   </th> </tr>\n",
    "       <tr> <th>                  </th>  <th> Transductores piezoelectricos    </th> </tr>\n",
    "       <tr> <th>                  </th>  <th> Celdas de carga                  </th> </tr>\n",
    "</tbody></table>\n",
    "\n",
    "**Transductor:** Es un dispositivo que convierte una señal de una propiedad fisica a una correspondiente propiedad fisica distinta.\n",
    "\n",
    "**Actuador:** Es un dispositivo que convierte una señal electrica en una accion mecanica\n",
    "\n",
    "**Tipo de Actuadores:**\n",
    " 1. Hidraulicos   \n",
    " 2.  Neumaticos  \n",
    " 3. Electricos\n",
    "    1. Motor Alterna\n",
    "        1.  Motor de Induccion \n",
    "    2. Motor Corriente Continua\n",
    "        1.  Motor Corriente Continua\n",
    "        2.  Motor Paso a Paso\n",
    "        3. ServoMotor\n",
    "        4. Brushless\n",
    "\n",
    "## Definiciones importantes en instrumentación\n",
    "1- El error de una medicion se define como:\n",
    "\n",
    "$$ \\varepsilon =xi-yi $$\n",
    "\n",
    "Yi=valor  verdadero definido o calculado\n",
    "\n",
    "Xi=valor actual medido\n",
    "\n",
    "2- Exactitud (Accuracy):\n",
    "\n",
    "La exactitud de una medida se define como :\n",
    "           \n",
    "$$ A=1- \\frac{yi-xi}{yi} $$\n",
    "\n",
    "3- Precisión y media (Precision and Mean)\n",
    "\n",
    "El valor medio se define:           \n",
    "\n",
    "$$ xm= \\frac {1} {n} \\sum_{i=1}^{i=n} x_{i} i=1:n $$\n",
    "\n",
    "n = numero de medidas      xi medida iesim\n",
    "\n",
    "La Precisión se define como:   \n",
    "       \n",
    "$$ Pi= 1- \\frac{x-xm}{xm} $$\n",
    "\n",
    "4- Resolución (Resolution)\n",
    "       Se define como la menor cantidad que el sistema puede detectar en la medición\n",
    "\n",
    "$$ V_{min}= \\frac{ V_{fesc}}{(2^{n}-1}) $$\n",
    "       \n",
    "5- Varianza \n",
    "\n",
    "$$ \\sigma^{2}= \\frac{1}{N} \\sum _{n=1}^{n=N}(x_{n}-X_{m}) $$\n",
    "\n",
    "6- Desviacion Standart (Variance and Standard deviation)\n",
    "\n",
    "$$ \\sigma^{2}=\\sqrt { \\frac{1}{N} \\sum _{n=1}^{n=N}(x_{n}-x_{m})} $$\n",
    " \n",
    "       \n",
    "       \n",
    "7- Finura  (Finesse)\n",
    "       El grado que una cantidad que se esta siendo medida es modificada por el proceso de medición\n",
    "       \n",
    "8- Sensitividad (Sensitivity)\n",
    "       Se define como la minima entrada que provoca un cambio en la salida detectable. \n",
    "       \n",
    "9- Rango (Range)\n",
    "       Se define como rango del sensor al maximo y minimo valor del parametro que puede ser leido.\n",
    "\n",
    "10- Offset y factor de escala (bias and scale factor shift)\n",
    "       \n",
    "El offset se define como el valor de salida que se mide cuando la entrada es cero.\n",
    "       \n",
    "11- Linealidad y Regresion lineal (Linearity and Linear Regression)\n",
    "\n",
    "12- Histeresis (Hysteresis)\n",
    "    Respuesta en el tiempo (Response Time)\n",
    "13- Tiempo real (Real Time)\n",
    "14-    Ganacia Gain \n",
    "\n",
    "\n",
    "## Adquisición de datos \n",
    "\n",
    "![imagen.png](attachment:imagen.png)\n",
    "\n",
    "\n",
    "Es el proceso que mide variables físicas y las convierte en datos digitales que puede ser manipulados por una computadora.\n",
    "\n",
    "Una señal es una abstraccion de cualquier magnitud medible la cual es funcion de una o mas variables independientes tales como el tiempo o el espacio.\n",
    "\n",
    "Voltajes y corrientes son señales electricas comunes\n",
    "\n",
    "Las señales pueden ser continuas o discretas.\n",
    "- Una señal continua en el tiempo es, una tal que, la misma existe para todo tiempo.\n",
    "- Una señal discreta en el tiempo es una que, solamente esta presente a tiempo discreto. \n",
    "\n",
    "\n",
    "** Definición de Señal Analogica: **  Proceso cuya amplitud puede variar en un rango continuo de valores.\n",
    "\n",
    "** Definición de Señal Digital: ** Es una tecnologia electronica donde una señal tiene solo dos estados abierto o cerrado, 1 o 0 En contraste analogica refiere a una señal que tiene un rango continuo de valores. Las magnitudes físicas o quimicas en general son analogicas el proceso que convierte la señal analogica en digital se denomina conversion analoga digital. Una señal digital es un proceso donde la amplitud es mapeada dentro de una serie de valores discretos y estos valores son medidos en tiempos discretos. En la imagen anterior se muestra el proceso de transformacion\n",
    "\n",
    "El mismo implica dos procesos\n",
    "- **Muestreo: ** Discretiza en el tiempo  la  señal.\n",
    "- **Discretizacion: ** Discretiza la amplitud de la señal.\n",
    "\n",
    "Una señal analogica puede ser como la que se muestra en la figura es una función continua en el tiempo. Para el ejemplo .cCambiando la amplitud y el periodo se modifica la señal\n",
    "\n",
    "\n",
    "\n",
    "\n",
    "\n"
   ]
  },
  {
   "cell_type": "code",
   "execution_count": 58,
   "metadata": {},
   "outputs": [
    {
     "name": "stdout",
     "output_type": "stream",
     "text": [
      "Populating the interactive namespace from numpy and matplotlib\n"
     ]
    },
    {
     "name": "stderr",
     "output_type": "stream",
     "text": [
      "C:\\Users\\Daniel\\anaconda3\\lib\\site-packages\\IPython\\core\\magics\\pylab.py:160: UserWarning: pylab import has clobbered these variables: ['Button', 'Text', 'interactive', 'Widget']\n",
      "`%matplotlib` prevents importing * from pylab and numpy\n",
      "  \"\\n`%matplotlib` prevents importing * from pylab and numpy\"\n"
     ]
    }
   ],
   "source": [
    "%pylab inline\n",
    "from ipywidgets import *\n",
    "\n"
   ]
  },
  {
   "cell_type": "code",
   "execution_count": 61,
   "metadata": {},
   "outputs": [],
   "source": [
    "def funi(Periodo, Amplitud):\n",
    "    t=arange(200)\n",
    "    v=Amplitud*sin(2*pi/Periodo*t)\n",
    "    plot(t,v)"
   ]
  },
  {
   "cell_type": "code",
   "execution_count": 63,
   "metadata": {
    "scrolled": false
   },
   "outputs": [
    {
     "data": {
      "application/vnd.jupyter.widget-view+json": {
       "model_id": "e47d4a4df6f44823aed048d5d17a5e59",
       "version_major": 2,
       "version_minor": 0
      },
      "text/plain": [
       "interactive(children=(IntSlider(value=50, description='Periodo'), IntSlider(value=50, description='Amplitud'),…"
      ]
     },
     "metadata": {},
     "output_type": "display_data"
    }
   ],
   "source": [
    "interact(funi, Periodo=(0, 100), Amplitud=(0,100));"
   ]
  },
  {
   "cell_type": "markdown",
   "metadata": {},
   "source": [
    "Cualquier señal analogica se puede representar por combinacion de senos y cosenos\n",
    "siguiendo la siguiente ecuacion:\n",
    "\n",
    "\n",
    "$$v(t)= \\sum_{n=1}^{n=\\infty} A_{n}.Sin(n.f.t)+\\sum B_{n}.Cos(n.f.t)  n=1,2,3,..,\\infty $$\n",
    "\n"
   ]
  },
  {
   "cell_type": "code",
   "execution_count": 64,
   "metadata": {},
   "outputs": [],
   "source": [
    "def foui(a0,a1,a2,a3,a4,a5,b1,b2,b3,b4,b5):\n",
    "    w=2*pi/100\n",
    "    t=arange(200)\n",
    "    v=a0+a1*sin(w*t)+b1*cos(w*t)+a2*sin(2*w*t)+b2*cos(2*w*t)+a3*sin(3*w*t)+b3*cos(3*w*t)+a4*sin(4*w*t)+b4*cos(4*w*t)+a5*sin(5*w*t)+b5*cos(5*w*t)\n",
    "    plot(t,v)"
   ]
  },
  {
   "cell_type": "code",
   "execution_count": 66,
   "metadata": {},
   "outputs": [
    {
     "data": {
      "application/vnd.jupyter.widget-view+json": {
       "model_id": "883a0df2e5f84cb5b785fcd95fe996fa",
       "version_major": 2,
       "version_minor": 0
      },
      "text/plain": [
       "interactive(children=(IntSlider(value=50, description='a0'), IntSlider(value=50, description='a1'), IntSlider(…"
      ]
     },
     "metadata": {},
     "output_type": "display_data"
    }
   ],
   "source": [
    "interact(foui, a0=(0, 100), a1=(0, 100), a2=(0, 100), a3=(0, 100), a4=(0, 100), a5=(0, 100), b1=(0, 100), b2=(0, 100), b3=(0, 100), b4=(0, 100), b5=(0, 100) );"
   ]
  },
  {
   "cell_type": "markdown",
   "metadata": {},
   "source": [
    "Para obtener una representacion aproximada de una señal se necesita solamente del orden de 10 frecuencias. La expresion que se muestra a continuacion es equivalente.\n",
    "\n",
    "$$v(t)= \\sum_{n=1}^{n=\\infty} A_{n}.Sin(n.f.t - \\beta_{n})  n=1,2,3,..,\\infty $$\n",
    "\n",
    "Se puede representar"
   ]
  },
  {
   "cell_type": "code",
   "execution_count": 67,
   "metadata": {},
   "outputs": [],
   "source": [
    "def mfoui(a0, a1, ang1, a2, ang2, a3, ang3, a4, ang4, a5, ang5):\n",
    "    w=2*pi/100\n",
    "    t= arange(0.0, 200.0, 1.0)\n",
    "    v=a0+a1*sin(w*t-ang1)+a2*sin(2*w*t-ang2)+a3*sin(3*w*t-ang3)+a4*sin(4*w*t-ang4)+a5*sin(5*w*t-ang5)\n",
    "    plot(t,v)\n",
    "    xlabel(\"Tiempo\")\n",
    "    ylabel(\"Senal\")"
   ]
  },
  {
   "cell_type": "code",
   "execution_count": 69,
   "metadata": {},
   "outputs": [
    {
     "data": {
      "application/vnd.jupyter.widget-view+json": {
       "model_id": "0442881ade724027b1a14706de9c15b2",
       "version_major": 2,
       "version_minor": 0
      },
      "text/plain": [
       "interactive(children=(IntSlider(value=50, description='a0'), IntSlider(value=50, description='a1'), IntSlider(…"
      ]
     },
     "metadata": {},
     "output_type": "display_data"
    }
   ],
   "source": [
    "interact(mfoui, a0=(0, 100), a1=(0, 100), a2=(0, 100), a3=(0, 100), a4=(0, 100), a5=(0, 100), ang1=(0, 90), ang2=(0, 90), ang3=(0, 90), ang4=(0, 90), ang5=(0, 90) );\n"
   ]
  },
  {
   "cell_type": "markdown",
   "metadata": {},
   "source": [
    "Cualquier funcion periodica o aperiodica puede ser representado por una series de funciones senoidales. Una forma de representar la misma es graficando en el espacio de la frecuencia el modulo y la fase como se muestra en la figura\n"
   ]
  },
  {
   "cell_type": "markdown",
   "metadata": {},
   "source": [
    "## Ruido\n",
    "Se denomina ruido a una señal no deseada que se suma a la señal que se desea medir. Existen diversas fuentes de ruido:\n",
    "\n",
    "Ruido blanco: Se caracteriza por tener la misma potencia de señal en todas las frecuencias.  "
   ]
  },
  {
   "cell_type": "code",
   "execution_count": 70,
   "metadata": {},
   "outputs": [],
   "source": [
    "def ruido_blanco(mrb):\n",
    "    random.seed(19680801)\n",
    "    t1 = arange(0.0, 200.0, 1.0)\n",
    "    vrb = mrb*random.rand(*t1.shape) \n",
    "    plot(t1, vrb)"
   ]
  },
  {
   "cell_type": "code",
   "execution_count": 71,
   "metadata": {},
   "outputs": [
    {
     "data": {
      "application/vnd.jupyter.widget-view+json": {
       "model_id": "48805de6a834457b879d783b3640c9b3",
       "version_major": 2,
       "version_minor": 0
      },
      "text/plain": [
       "interactive(children=(IntSlider(value=50, description='mrb'), Output()), _dom_classes=('widget-interact',))"
      ]
     },
     "metadata": {},
     "output_type": "display_data"
    }
   ],
   "source": [
    "interact(ruido_blanco, mrb=(0, 100));"
   ]
  },
  {
   "cell_type": "markdown",
   "metadata": {},
   "source": [
    "Ruido a una frecuencia especifica: En nuestro caso 50 Hz de la frecuencia \n",
    "de la linea electrica tambien aparece 100 hz "
   ]
  },
  {
   "cell_type": "code",
   "execution_count": 72,
   "metadata": {},
   "outputs": [],
   "source": [
    "def ruido_50(m50):\n",
    "    t1 = arange(0.0, 200.0, 1.0)\n",
    "    w=2*pi/100\n",
    "    vr50=m50*sin(2*pi/20.0*t1)\n",
    "    plot(t1,vr50)"
   ]
  },
  {
   "cell_type": "code",
   "execution_count": 73,
   "metadata": {},
   "outputs": [
    {
     "data": {
      "application/vnd.jupyter.widget-view+json": {
       "model_id": "d1ce9f9b43ad4819914f8230c7df785f",
       "version_major": 2,
       "version_minor": 0
      },
      "text/plain": [
       "interactive(children=(IntSlider(value=50, description='m50'), Output()), _dom_classes=('widget-interact',))"
      ]
     },
     "metadata": {},
     "output_type": "display_data"
    }
   ],
   "source": [
    "interact(ruido_50, m50=(0, 100));"
   ]
  },
  {
   "cell_type": "markdown",
   "metadata": {},
   "source": [
    "La señal analogica completa seria la mostrada en la figura"
   ]
  },
  {
   "cell_type": "code",
   "execution_count": 74,
   "metadata": {
    "scrolled": true
   },
   "outputs": [],
   "source": [
    "def vsenal(a0, a1, ang1, a2, ang2, a3, ang3, a4, ang4, a5, ang5, m50, mrb):\n",
    "    w=2*pi/100\n",
    "    t= arange(0.0, 200.0, 1.0)\n",
    "    vs=a0+a1*sin(w*t-ang1)+a2*sin(2*w*t-ang2)+a3*sin(3*w*t-ang3)+a4*sin(4*w*t-ang4)+a5*sin(5*w*t-ang5)\n",
    "    vr50=m50*sin(2*pi/20.0*t)\n",
    "    vrb = mrb*random.rand(*t.shape) \n",
    "    v=vs+vr50+vrb\n",
    "    plot(t,v)\n"
   ]
  },
  {
   "cell_type": "code",
   "execution_count": 75,
   "metadata": {},
   "outputs": [
    {
     "data": {
      "application/vnd.jupyter.widget-view+json": {
       "model_id": "5d39a1fc617b47318ffa8ee60715f889",
       "version_major": 2,
       "version_minor": 0
      },
      "text/plain": [
       "interactive(children=(IntSlider(value=50, description='a0'), IntSlider(value=50, description='a1'), IntSlider(…"
      ]
     },
     "metadata": {},
     "output_type": "display_data"
    }
   ],
   "source": [
    "interact(vsenal,a0=(0,100),a1=(0,100),ang1=(0,180),a2=(0,100),ang2=(0,180),a3=(0,100),ang3=(0,180),a4=(0,100),ang4=(0,180),a5=(0,100),ang5=(0,180),m50=(0,100),mrb=(0,100) );"
   ]
  },
  {
   "cell_type": "markdown",
   "metadata": {},
   "source": [
    "Para poder medir correctamente se debe aplicar filtros a la señal. Son dispositivos que eliminan las señales no deseadas.\n",
    "Se clasifican en :\n",
    "1. Filtros analogicos: se realizan con componentes como resistencias, capacitores, inductores, amp. operacionales\n",
    "2. Filtros digitales: se realizan con programas una vez discretizadas la señal\n",
    "\n",
    "\n",
    "Tambien se clasifican segun la frecuencia que dejan o no pasar:\n",
    "1. Pasbajos: Dejan pasar las frecuencias bajas\n",
    "2. Pasaaltos: Dejan pasar las frecuencias altas\n",
    "3. Pasabanda: Dejan pasar una banda de frecuencias\n",
    "4. Elimina banda: Elimina una banda de frecuencias\n",
    "\n",
    "Cualquier sistema de adquisición de datos moderno debe ser digital y por lo tanto tener un filtro pasabajos analogico para funcionar correctamente.\n",
    "\n",
    "Si tenemos una señal digital como la figura.\n"
   ]
  },
  {
   "cell_type": "code",
   "execution_count": 80,
   "metadata": {},
   "outputs": [
    {
     "data": {
      "text/plain": [
       "[<matplotlib.lines.Line2D at 0x2899f632688>]"
      ]
     },
     "execution_count": 80,
     "metadata": {},
     "output_type": "execute_result"
    },
    {
     "data": {
      "image/png": "[encoded data removed]",
      "text/plain": [
       "<Figure size 432x288 with 1 Axes>"
      ]
     },
     "metadata": {
      "needs_background": "light"
     },
     "output_type": "display_data"
    }
   ],
   "source": [
    "\n",
    "w=2*pi/100\n",
    "v=100*sin(w*t)\n",
    "t=arange(200)\n",
    "plot(t,v)"
   ]
  },
  {
   "cell_type": "markdown",
   "metadata": {},
   "source": [
    "la señal analogico para ser tranformada debe ser muestreada en el tiempo. En la figura se muestra una señal muestreada en el tiempo"
   ]
  },
  {
   "cell_type": "code",
   "execution_count": 81,
   "metadata": {},
   "outputs": [
    {
     "data": {
      "text/plain": [
       "[<matplotlib.lines.Line2D at 0x2899f6f18c8>]"
      ]
     },
     "execution_count": 81,
     "metadata": {},
     "output_type": "execute_result"
    },
    {
     "data": {
      "image/png": "[encoded data removed]",
      "text/plain": [
       "<Figure size 432x288 with 1 Axes>"
      ]
     },
     "metadata": {
      "needs_background": "light"
     },
     "output_type": "display_data"
    }
   ],
   "source": [
    "nsamples=1000\n",
    "\n",
    "w=2*pi/100\n",
    "t=arange(nsamples)\n",
    "v=100*sin(w*t)\n",
    "tmuestreo=10\n",
    "v1=zeros(nsamples)\n",
    "v1[:nsamples:tmuestreo]=v[:nsamples:tmuestreo]\n",
    "plot(t,v1)\n",
    "plot(t,v)"
   ]
  },
  {
   "cell_type": "markdown",
   "metadata": {},
   "source": [
    "En naranja se observa la señal. En azul la señal muestreda. Si el tiempo de muestreo es mucho menor a la mitad del periodo, en este caso el periodo es 100 y el tmuestreo 10. Se puede observar que la señal se reproduce correctamente. Si el tmuestreo es del orden de la mitad del periodo. El resultado se muestra en la siguiente figura"
   ]
  },
  {
   "cell_type": "code",
   "execution_count": 82,
   "metadata": {},
   "outputs": [
    {
     "data": {
      "text/plain": [
       "[<matplotlib.lines.Line2D at 0x2899f4cce88>]"
      ]
     },
     "execution_count": 82,
     "metadata": {},
     "output_type": "execute_result"
    },
    {
     "data": {
      "image/png": "[encoded data removed]",
      "text/plain": [
       "<Figure size 432x288 with 1 Axes>"
      ]
     },
     "metadata": {
      "needs_background": "light"
     },
     "output_type": "display_data"
    }
   ],
   "source": [
    "nsamples=1000\n",
    "w=2*pi/100\n",
    "t=arange(nsamples)\n",
    "v=100*sin(w*t)\n",
    "tmuestreo=50\n",
    "v1=zeros(nsamples)\n",
    "v1[:nsamples:tmuestreo]=v[:nsamples:tmuestreo]\n",
    "plot(t,v1)\n",
    "plot(t,v)"
   ]
  },
  {
   "cell_type": "markdown",
   "metadata": {},
   "source": [
    "Una linea recta que no tiene nada que ver con la señal. Si el tmuestreo es mayor que la mitad del periodo ocurre lo que muestra la figura "
   ]
  },
  {
   "cell_type": "code",
   "execution_count": 83,
   "metadata": {},
   "outputs": [
    {
     "data": {
      "text/plain": [
       "[<matplotlib.lines.Line2D at 0x2899f47f748>]"
      ]
     },
     "execution_count": 83,
     "metadata": {},
     "output_type": "execute_result"
    },
    {
     "data": {
      "image/png": "[encoded data removed]",
      "text/plain": [
       "<Figure size 432x288 with 1 Axes>"
      ]
     },
     "metadata": {
      "needs_background": "light"
     },
     "output_type": "display_data"
    }
   ],
   "source": [
    "nsamples=1000\n",
    "w=2*pi/100\n",
    "t=arange(nsamples)\n",
    "v=100*sin(w*t)\n",
    "tmuestreo=51\n",
    "v1=zeros(nsamples)\n",
    "v1[:nsamples:tmuestreo]=v[:nsamples:tmuestreo]\n",
    "plot(t,v1)\n",
    "plot(t,v)"
   ]
  },
  {
   "cell_type": "markdown",
   "metadata": {},
   "source": [
    "Entonces el tmuestreo debe ser menor que la mitad del periodo. O que la frecuencia de muestreo debe ser al menos el doble que la frecuencia de la señal.\n",
    "\n",
    "$$ f_{muestreo}>2.f_{senal}$$\n",
    "\n",
    "Esta conclusion se denomina teorema del muestreo.\n",
    "\n",
    "Pero una señal analogica se puede descomponer en señales senoidales de distintas frecuencias. La frecuencia de muestreo debe ser al menos el doble que la frecuencia mas alta de la señal analogica( se denomina armonica).\n",
    "\n",
    "Si una de las frecuencias armonicas es mayor que la frecuencia de muestreo ocurre lo que se muestra en la figura\n",
    "\n"
   ]
  },
  {
   "cell_type": "code",
   "execution_count": 84,
   "metadata": {},
   "outputs": [],
   "source": [
    "def muest(nsamples, tmuestreo):\n",
    "    w=2*pi/20\n",
    "    t=arange(nsamples)\n",
    "    v=100*sin(w*t)\n",
    "    v1=zeros(nsamples)\n",
    "    v1[:nsamples:tmuestreo]=v[:nsamples:tmuestreo]\n",
    "    plot(t,v1)\n",
    "    plot(t,v)\n",
    "    xlabel(\"tiempo\")\n",
    "    ylabel(\"Señal\")\n",
    "    figure(figsize=(10,10))"
   ]
  },
  {
   "cell_type": "code",
   "execution_count": 85,
   "metadata": {
    "scrolled": true
   },
   "outputs": [
    {
     "data": {
      "application/vnd.jupyter.widget-view+json": {
       "model_id": "22f1b79961db42559d162e5f75019853",
       "version_major": 2,
       "version_minor": 0
      },
      "text/plain": [
       "interactive(children=(IntSlider(value=500, description='nsamples', max=1000), IntSlider(value=100, description…"
      ]
     },
     "metadata": {},
     "output_type": "display_data"
    }
   ],
   "source": [
    "interact(muest, nsamples=(0, 1000),tmuestreo=(0,200));"
   ]
  },
  {
   "cell_type": "markdown",
   "metadata": {},
   "source": [
    "La señal cambia de frecuencia a una frecuencia mas baja. Por lo tanto no se puede eliminar utilizando un filtro digital.\n",
    "Entonces todas las señales analogicas deben de ser de banda limitada, que tengan una frecuencia maxima. o sea la señal no puede tener una armonica mayor que una determinada frecuencia, O sea que entre el sensor y el conversor AD debe haber un dispositivo que elimine las frecuencias mayores. Ese dispositivo se denomina filtro pasabajos."
   ]
  },
  {
   "cell_type": "markdown",
   "metadata": {},
   "source": [
    "## Filtros pasabajos\n",
    "Un filtro pasabajo es un dispositivo que permite pasar a las freecuencias menores a la frecuencia de corte. Una caracteristica ideal se muestra en la figura"
   ]
  },
  {
   "cell_type": "code",
   "execution_count": 86,
   "metadata": {},
   "outputs": [
    {
     "data": {
      "text/plain": [
       "Text(0, 0.5, 'Señal')"
      ]
     },
     "execution_count": 86,
     "metadata": {},
     "output_type": "execute_result"
    },
    {
     "data": {
      "image/png": "[encoded data removed]",
      "text/plain": [
       "<Figure size 432x288 with 1 Axes>"
      ]
     },
     "metadata": {
      "needs_background": "light"
     },
     "output_type": "display_data"
    }
   ],
   "source": [
    "v=concatenate((ones(100),zeros(100)), axis=0)\n",
    "t=arange(200)\n",
    "plot(t,v)\n",
    "xlabel(\"Frecuencia\")\n",
    "ylabel(\"Señal\")"
   ]
  },
  {
   "cell_type": "markdown",
   "metadata": {},
   "source": [
    "Esta curva se denomina plantilla, los filtros reales no tienen esa forma sino la que se muestra en la figura dependiendo de la cantidad de polos de la ecuacion. El circuito mas sencillo es el RC. Que se muestra en la figura. \n",
    "\n",
    "\n",
    "La funcion de transferencia, es la funcion que caracteriza el circuito y es la relacion entre la salida y la entrada es:\n",
    "\n",
    "$$ FT= \\frac{1}{1+jw/w0} $$\n",
    "\n",
    "Donde \n",
    "$$  w0= \\frac{1}{R.C}   $$  \n",
    "R: resistencia del circuito.\n",
    "\n",
    "C: Capacidad del circuito.\n",
    "\n",
    "w0: es la frecuencia de corte\n",
    "\n",
    "$$ w: 2 \\pi f $$\n",
    "\n",
    "La frecuencia de corte esta en\n",
    "\n"
   ]
  },
  {
   "cell_type": "code",
   "execution_count": 87,
   "metadata": {},
   "outputs": [],
   "source": [
    "def FT(w,r,c):\n",
    "    wc = 2*pi*1000/r/c\n",
    "    return 1.0 / (1.0 + 1j * w / wc)"
   ]
  },
  {
   "cell_type": "code",
   "execution_count": 88,
   "metadata": {},
   "outputs": [],
   "source": [
    "def iFT(r,c):\n",
    "    f = logspace(1,5) # frequencies from 10**1 to 10**\n",
    "    plot(f, 20*log10(abs(FT(f,r,c)))); xscale('log')\n",
    "    xlabel(\"log Frecuencia\")\n",
    "    ylabel(\"Funcion Tranferencia\")\n",
    "    print (\"Frecuencia de corte\")"
   ]
  },
  {
   "cell_type": "code",
   "execution_count": 89,
   "metadata": {},
   "outputs": [
    {
     "data": {
      "application/vnd.jupyter.widget-view+json": {
       "model_id": "e603a2fdcdea4441810933adbc4bd38c",
       "version_major": 2,
       "version_minor": 0
      },
      "text/plain": [
       "interactive(children=(IntSlider(value=10, description='r', max=20), IntSlider(value=10, description='c', max=2…"
      ]
     },
     "metadata": {},
     "output_type": "display_data"
    }
   ],
   "source": [
    "interact(iFT,r=(0, 20),c=(0,20));"
   ]
  },
  {
   "cell_type": "markdown",
   "metadata": {},
   "source": [
    "Un filtro mucho mas eficiente seria un filtro activo de segundo grado."
   ]
  },
  {
   "cell_type": "markdown",
   "metadata": {},
   "source": [
    "## CONVERSOR DA  \n",
    "\n",
    "Convierte una señal digital en una señal analogica (un conversor AD tiene un conversor DA entre sus partes.\n",
    "\n"
   ]
  },
  {
   "cell_type": "markdown",
   "metadata": {},
   "source": [
    "## CONVERSOR AD"
   ]
  },
  {
   "cell_type": "code",
   "execution_count": null,
   "metadata": {},
   "outputs": [],
   "source": []
  }
 ],
 "metadata": {
  "kernelspec": {
   "display_name": "Python 3",
   "language": "python",
   "name": "python3"
  },
  "language_info": {
   "codemirror_mode": {
    "name": "ipython",
    "version": 3
   },
   "file_extension": ".py",
   "mimetype": "text/x-python",
   "name": "python",
   "nbconvert_exporter": "python",
   "pygments_lexer": "ipython3",
   "version": "3.7.6"
  }
 },
 "nbformat": 4,
 "nbformat_minor": 2
}
